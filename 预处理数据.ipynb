{
 "cells": [
  {
   "cell_type": "code",
   "execution_count": 1,
   "metadata": {},
   "outputs": [],
   "source": [
    "import pandas as pd\n",
    "import numpy as np\n",
    "import os, pickle\n",
    "import torch\n",
    "from collections import defaultdict, Counter\n",
    "from sklearn.preprocessing import LabelEncoder"
   ]
  },
  {
   "cell_type": "code",
   "execution_count": 2,
   "metadata": {},
   "outputs": [],
   "source": [
    "OUT_PATH = 'data_cache/'\n",
    "if not os.path.exists(OUT_PATH):\n",
    "    os.makedirs(OUT_PATH)"
   ]
  },
  {
   "cell_type": "code",
   "execution_count": 3,
   "metadata": {},
   "outputs": [
    {
     "data": {
      "text/html": [
       "<div>\n",
       "<style scoped>\n",
       "    .dataframe tbody tr th:only-of-type {\n",
       "        vertical-align: middle;\n",
       "    }\n",
       "\n",
       "    .dataframe tbody tr th {\n",
       "        vertical-align: top;\n",
       "    }\n",
       "\n",
       "    .dataframe thead th {\n",
       "        text-align: right;\n",
       "    }\n",
       "</style>\n",
       "<table border=\"1\" class=\"dataframe\">\n",
       "  <thead>\n",
       "    <tr style=\"text-align: right;\">\n",
       "      <th></th>\n",
       "      <th>user_id</th>\n",
       "      <th>sku_id</th>\n",
       "    </tr>\n",
       "  </thead>\n",
       "  <tbody>\n",
       "    <tr>\n",
       "      <th>9138</th>\n",
       "      <td>577836</td>\n",
       "      <td>98373</td>\n",
       "    </tr>\n",
       "    <tr>\n",
       "      <th>54112</th>\n",
       "      <td>539770</td>\n",
       "      <td>289214</td>\n",
       "    </tr>\n",
       "    <tr>\n",
       "      <th>28545</th>\n",
       "      <td>745171</td>\n",
       "      <td>320439</td>\n",
       "    </tr>\n",
       "    <tr>\n",
       "      <th>9137</th>\n",
       "      <td>577836</td>\n",
       "      <td>343787</td>\n",
       "    </tr>\n",
       "    <tr>\n",
       "      <th>31159</th>\n",
       "      <td>402115</td>\n",
       "      <td>47830</td>\n",
       "    </tr>\n",
       "  </tbody>\n",
       "</table>\n",
       "</div>"
      ],
      "text/plain": [
       "       user_id  sku_id\n",
       "9138    577836   98373\n",
       "54112   539770  289214\n",
       "28545   745171  320439\n",
       "9137    577836  343787\n",
       "31159   402115   47830"
      ]
     },
     "execution_count": 3,
     "metadata": {},
     "output_type": "execute_result"
    }
   ],
   "source": [
    "user_act = pd.read_csv('data/action_head.csv', parse_dates=['action_time'], header=0)\n",
    "user_act = user_act.sort_values(by='action_time')[['user_id', 'sku_id']]\n",
    "user_act.head()"
   ]
  },
  {
   "cell_type": "code",
   "execution_count": 4,
   "metadata": {},
   "outputs": [
    {
     "name": "stdout",
     "output_type": "stream",
     "text": [
      "(352539, 5)\n",
      "(33344, 4)\n"
     ]
    },
    {
     "data": {
      "text/html": [
       "<div>\n",
       "<style scoped>\n",
       "    .dataframe tbody tr th:only-of-type {\n",
       "        vertical-align: middle;\n",
       "    }\n",
       "\n",
       "    .dataframe tbody tr th {\n",
       "        vertical-align: top;\n",
       "    }\n",
       "\n",
       "    .dataframe thead th {\n",
       "        text-align: right;\n",
       "    }\n",
       "</style>\n",
       "<table border=\"1\" class=\"dataframe\">\n",
       "  <thead>\n",
       "    <tr style=\"text-align: right;\">\n",
       "      <th></th>\n",
       "      <th>sku_id</th>\n",
       "      <th>brand</th>\n",
       "      <th>shop_id</th>\n",
       "      <th>cate</th>\n",
       "    </tr>\n",
       "  </thead>\n",
       "  <tbody>\n",
       "    <tr>\n",
       "      <th>3</th>\n",
       "      <td>366931</td>\n",
       "      <td>2698</td>\n",
       "      <td>10252</td>\n",
       "      <td>79</td>\n",
       "    </tr>\n",
       "    <tr>\n",
       "      <th>21</th>\n",
       "      <td>133835</td>\n",
       "      <td>3274</td>\n",
       "      <td>6700</td>\n",
       "      <td>79</td>\n",
       "    </tr>\n",
       "  </tbody>\n",
       "</table>\n",
       "</div>"
      ],
      "text/plain": [
       "    sku_id  brand  shop_id  cate\n",
       "3   366931   2698    10252    79\n",
       "21  133835   3274     6700    79"
      ]
     },
     "execution_count": 4,
     "metadata": {},
     "output_type": "execute_result"
    }
   ],
   "source": [
    "product = pd.read_csv('data/jdata_product.csv', header=0)\n",
    "print(product.shape)\n",
    "# 仅使用出现过的sku_id\n",
    "product = product[product.sku_id.isin(set(user_act.sku_id))][['sku_id','brand','shop_id','cate']]\n",
    "print(product.shape)\n",
    "product.head(2)"
   ]
  },
  {
   "cell_type": "code",
   "execution_count": 5,
   "metadata": {},
   "outputs": [
    {
     "data": {
      "text/html": [
       "<div>\n",
       "<style scoped>\n",
       "    .dataframe tbody tr th:only-of-type {\n",
       "        vertical-align: middle;\n",
       "    }\n",
       "\n",
       "    .dataframe tbody tr th {\n",
       "        vertical-align: top;\n",
       "    }\n",
       "\n",
       "    .dataframe thead th {\n",
       "        text-align: right;\n",
       "    }\n",
       "</style>\n",
       "<table border=\"1\" class=\"dataframe\">\n",
       "  <thead>\n",
       "    <tr style=\"text-align: right;\">\n",
       "      <th></th>\n",
       "      <th>user_id</th>\n",
       "      <th>sku_id</th>\n",
       "      <th>brand</th>\n",
       "      <th>shop_id</th>\n",
       "      <th>cate</th>\n",
       "    </tr>\n",
       "  </thead>\n",
       "  <tbody>\n",
       "    <tr>\n",
       "      <th>0</th>\n",
       "      <td>577836</td>\n",
       "      <td>98373</td>\n",
       "      <td>262</td>\n",
       "      <td>7082</td>\n",
       "      <td>7</td>\n",
       "    </tr>\n",
       "    <tr>\n",
       "      <th>1</th>\n",
       "      <td>812116</td>\n",
       "      <td>98373</td>\n",
       "      <td>262</td>\n",
       "      <td>7082</td>\n",
       "      <td>7</td>\n",
       "    </tr>\n",
       "  </tbody>\n",
       "</table>\n",
       "</div>"
      ],
      "text/plain": [
       "   user_id  sku_id  brand  shop_id  cate\n",
       "0   577836   98373    262     7082     7\n",
       "1   812116   98373    262     7082     7"
      ]
     },
     "execution_count": 5,
     "metadata": {},
     "output_type": "execute_result"
    }
   ],
   "source": [
    "# 为简单，这里仅保留product中出现过的sku\n",
    "user_act = user_act.merge(product, on='sku_id', how='inner')\n",
    "user_act.head(2)"
   ]
  },
  {
   "cell_type": "code",
   "execution_count": null,
   "metadata": {},
   "outputs": [],
   "source": []
  },
  {
   "cell_type": "code",
   "execution_count": 8,
   "metadata": {},
   "outputs": [],
   "source": [
    "# label encoder\n",
    "lbe_dict = {}\n",
    "\n",
    "# label encoder + 1, 防止需要padding\n",
    "for col in ['sku_id', 'brand', 'shop_id', 'cate']:\n",
    "    lbe = LabelEncoder()\n",
    "    user_act[col] = lbe.fit_transform(user_act[col])+1\n",
    "    lbe_dict[col] = lbe\n",
    "\n",
    "pickle.dump(lbe_dict, open(f'{OUT_PATH}/label_dict.pkl','wb'))"
   ]
  },
  {
   "cell_type": "code",
   "execution_count": 9,
   "metadata": {},
   "outputs": [
    {
     "data": {
      "text/plain": [
       "(33344, 4)"
      ]
     },
     "execution_count": 9,
     "metadata": {},
     "output_type": "execute_result"
    }
   ],
   "source": [
    "product = user_act[['sku_id', 'brand', 'shop_id', 'cate']].drop_duplicates(subset=['sku_id', 'brand', 'shop_id', 'cate'])\n",
    "product.shape"
   ]
  },
  {
   "cell_type": "code",
   "execution_count": 11,
   "metadata": {},
   "outputs": [],
   "source": [
    "# 计算词频\n",
    "word_counts = Counter(user_act['sku_id'].tolist()).items()\n",
    "# 按label encoder 进行排序，因为需要跟后面Embedding table采样保持一致\n",
    "word_counts = sorted(word_counts, key=lambda x:x[0])\n",
    "counts = np.array([wc[1] for wc in word_counts])\n",
    "\n",
    "noise_dist = torch.from_numpy(counts**(0.75)/np.sum(counts**(0.75)))\n",
    "\n",
    "pickle.dump(word_counts, open(f'{OUT_PATH}/word_counts.pkl', 'wb')) "
   ]
  },
  {
   "cell_type": "code",
   "execution_count": null,
   "metadata": {},
   "outputs": [],
   "source": []
  },
  {
   "cell_type": "code",
   "execution_count": 12,
   "metadata": {},
   "outputs": [
    {
     "data": {
      "text/plain": [
       "user_id\n",
       "28                [21864, 11800, 28044]\n",
       "40    [4215, 31898, 8519, 21941, 14684]\n",
       "Name: sku_id, dtype: object"
      ]
     },
     "execution_count": 12,
     "metadata": {},
     "output_type": "execute_result"
    }
   ],
   "source": [
    "df_corpus = user_act.groupby('user_id')['sku_id'].agg(list)\n",
    "df_corpus.head(2)"
   ]
  },
  {
   "cell_type": "code",
   "execution_count": 13,
   "metadata": {},
   "outputs": [],
   "source": [
    "# 生成训练pairs\n",
    "def generate_context_pairs(corpus, window=5):\n",
    "    \"\"\"\n",
    "    copurs: 语料；\n",
    "    window: 窗口，中心词到两端的最远距离；\n",
    "    \"\"\"\n",
    "    all_pairs = []\n",
    "    for k in range(len(corpus)):\n",
    "        sent = corpus[k]\n",
    "        if len(sent)<2: continue\n",
    "        for i in range(len(sent)):\n",
    "            for j in range(max(i-window, 0), min(i+window+1, len(sent))):\n",
    "                if i!=j:\n",
    "                    all_pairs.append([sent[i], sent[j]])\n",
    "    return all_pairs\n"
   ]
  },
  {
   "cell_type": "code",
   "execution_count": 14,
   "metadata": {},
   "outputs": [],
   "source": [
    "all_pairs = generate_context_pairs(df_corpus.values, window=5)"
   ]
  },
  {
   "cell_type": "code",
   "execution_count": 15,
   "metadata": {},
   "outputs": [
    {
     "name": "stdout",
     "output_type": "stream",
     "text": [
      "(704626, 2)\n"
     ]
    },
    {
     "data": {
      "text/html": [
       "<div>\n",
       "<style scoped>\n",
       "    .dataframe tbody tr th:only-of-type {\n",
       "        vertical-align: middle;\n",
       "    }\n",
       "\n",
       "    .dataframe tbody tr th {\n",
       "        vertical-align: top;\n",
       "    }\n",
       "\n",
       "    .dataframe thead th {\n",
       "        text-align: right;\n",
       "    }\n",
       "</style>\n",
       "<table border=\"1\" class=\"dataframe\">\n",
       "  <thead>\n",
       "    <tr style=\"text-align: right;\">\n",
       "      <th></th>\n",
       "      <th>sku_id</th>\n",
       "      <th>label</th>\n",
       "    </tr>\n",
       "  </thead>\n",
       "  <tbody>\n",
       "    <tr>\n",
       "      <th>0</th>\n",
       "      <td>21864</td>\n",
       "      <td>11800</td>\n",
       "    </tr>\n",
       "    <tr>\n",
       "      <th>1</th>\n",
       "      <td>21864</td>\n",
       "      <td>28044</td>\n",
       "    </tr>\n",
       "  </tbody>\n",
       "</table>\n",
       "</div>"
      ],
      "text/plain": [
       "   sku_id  label\n",
       "0   21864  11800\n",
       "1   21864  28044"
      ]
     },
     "execution_count": 15,
     "metadata": {},
     "output_type": "execute_result"
    }
   ],
   "source": [
    "df_pair = pd.DataFrame(all_pairs, columns=['sku_id', 'label'])\n",
    "print(df_pair.shape)\n",
    "df_pair.head(2)"
   ]
  },
  {
   "cell_type": "code",
   "execution_count": 16,
   "metadata": {},
   "outputs": [
    {
     "data": {
      "text/html": [
       "<div>\n",
       "<style scoped>\n",
       "    .dataframe tbody tr th:only-of-type {\n",
       "        vertical-align: middle;\n",
       "    }\n",
       "\n",
       "    .dataframe tbody tr th {\n",
       "        vertical-align: top;\n",
       "    }\n",
       "\n",
       "    .dataframe thead th {\n",
       "        text-align: right;\n",
       "    }\n",
       "</style>\n",
       "<table border=\"1\" class=\"dataframe\">\n",
       "  <thead>\n",
       "    <tr style=\"text-align: right;\">\n",
       "      <th></th>\n",
       "      <th>sku_id</th>\n",
       "      <th>label</th>\n",
       "      <th>brand</th>\n",
       "      <th>shop_id</th>\n",
       "      <th>cate</th>\n",
       "    </tr>\n",
       "  </thead>\n",
       "  <tbody>\n",
       "    <tr>\n",
       "      <th>0</th>\n",
       "      <td>21864</td>\n",
       "      <td>11800</td>\n",
       "      <td>2347</td>\n",
       "      <td>4110</td>\n",
       "      <td>6</td>\n",
       "    </tr>\n",
       "    <tr>\n",
       "      <th>1</th>\n",
       "      <td>21864</td>\n",
       "      <td>28044</td>\n",
       "      <td>2347</td>\n",
       "      <td>4110</td>\n",
       "      <td>6</td>\n",
       "    </tr>\n",
       "    <tr>\n",
       "      <th>2</th>\n",
       "      <td>11800</td>\n",
       "      <td>21864</td>\n",
       "      <td>748</td>\n",
       "      <td>1624</td>\n",
       "      <td>6</td>\n",
       "    </tr>\n",
       "    <tr>\n",
       "      <th>3</th>\n",
       "      <td>11800</td>\n",
       "      <td>28044</td>\n",
       "      <td>748</td>\n",
       "      <td>1624</td>\n",
       "      <td>6</td>\n",
       "    </tr>\n",
       "    <tr>\n",
       "      <th>4</th>\n",
       "      <td>28044</td>\n",
       "      <td>21864</td>\n",
       "      <td>748</td>\n",
       "      <td>1624</td>\n",
       "      <td>6</td>\n",
       "    </tr>\n",
       "  </tbody>\n",
       "</table>\n",
       "</div>"
      ],
      "text/plain": [
       "   sku_id  label  brand  shop_id  cate\n",
       "0   21864  11800   2347     4110     6\n",
       "1   21864  28044   2347     4110     6\n",
       "2   11800  21864    748     1624     6\n",
       "3   11800  28044    748     1624     6\n",
       "4   28044  21864    748     1624     6"
      ]
     },
     "execution_count": 16,
     "metadata": {},
     "output_type": "execute_result"
    }
   ],
   "source": [
    "df_pair = df_pair.merge(product, on='sku_id', how='left')\n",
    "\n",
    "df_pair.head()"
   ]
  },
  {
   "cell_type": "code",
   "execution_count": 18,
   "metadata": {},
   "outputs": [],
   "source": [
    "df_pair.to_pickle(f'{OUT_PATH}/pairs.pkl')"
   ]
  },
  {
   "cell_type": "code",
   "execution_count": null,
   "metadata": {},
   "outputs": [],
   "source": []
  },
  {
   "cell_type": "code",
   "execution_count": null,
   "metadata": {},
   "outputs": [],
   "source": []
  }
 ],
 "metadata": {
  "kernelspec": {
   "display_name": "Python 3",
   "language": "python",
   "name": "python3"
  },
  "language_info": {
   "codemirror_mode": {
    "name": "ipython",
    "version": 3
   },
   "file_extension": ".py",
   "mimetype": "text/x-python",
   "name": "python",
   "nbconvert_exporter": "python",
   "pygments_lexer": "ipython3",
   "version": "3.7.4"
  }
 },
 "nbformat": 4,
 "nbformat_minor": 4
}
